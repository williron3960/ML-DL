{
 "cells": [
  {
   "cell_type": "code",
   "execution_count": 154,
   "metadata": {},
   "outputs": [],
   "source": [
    "# Import the libraries\n",
    "import numpy as np\n",
    "import matplotlib.pyplot as plt  # for 畫圖用\n",
    "import pandas as pd\n",
    "# Import the Keras libraries and packages\n",
    "from sklearn.model_selection import train_test_split \n",
    "from sklearn.preprocessing import MinMaxScaler\n",
    "from sklearn import metrics\n",
    "from keras.models import Sequential\n",
    "from keras.layers import Dense\n",
    "from keras.layers import LSTM\n",
    "from keras.layers import Dropout"
   ]
  },
  {
   "cell_type": "markdown",
   "metadata": {},
   "source": [
    "                                      ------------資料建置-----------"
   ]
  },
  {
   "cell_type": "code",
   "execution_count": 155,
   "metadata": {},
   "outputs": [],
   "source": [
    "# Import the training set\n",
    "pw2014_ini = pd.read_csv('homeF_2014_merge_2.csv')  # 讀取訓練集\n",
    "pw2015_ini = pd.read_csv('homeF_2015_merge_2.csv')  # 讀取訓練集\n",
    "power = pd.concat([pw2014_ini,pw2015_ini],axis=0,ignore_index=True)\n"
   ]
  },
  {
   "cell_type": "code",
   "execution_count": 156,
   "metadata": {},
   "outputs": [
    {
     "data": {
      "text/html": [
       "<div>\n",
       "<style scoped>\n",
       "    .dataframe tbody tr th:only-of-type {\n",
       "        vertical-align: middle;\n",
       "    }\n",
       "\n",
       "    .dataframe tbody tr th {\n",
       "        vertical-align: top;\n",
       "    }\n",
       "\n",
       "    .dataframe thead th {\n",
       "        text-align: right;\n",
       "    }\n",
       "</style>\n",
       "<table border=\"1\" class=\"dataframe\">\n",
       "  <thead>\n",
       "    <tr style=\"text-align: right;\">\n",
       "      <th></th>\n",
       "      <th>Date &amp; Time</th>\n",
       "      <th>Usage [kW]</th>\n",
       "      <th>Generation [kW]</th>\n",
       "      <th>WaterHeater [kW]</th>\n",
       "      <th>Solar [kW]</th>\n",
       "      <th>Refrigerator [kW]</th>\n",
       "      <th>Microwave [kW]</th>\n",
       "      <th>Furnace [kW]</th>\n",
       "      <th>WaterHeater3 [kW]</th>\n",
       "      <th>WaterHeater2 [kW]</th>\n",
       "      <th>...</th>\n",
       "      <th>visibility</th>\n",
       "      <th>summary</th>\n",
       "      <th>apparentTemperature</th>\n",
       "      <th>pressure</th>\n",
       "      <th>windSpeed</th>\n",
       "      <th>cloudCover</th>\n",
       "      <th>windBearing</th>\n",
       "      <th>precipIntensity</th>\n",
       "      <th>dewPoint</th>\n",
       "      <th>precipProbability</th>\n",
       "    </tr>\n",
       "  </thead>\n",
       "  <tbody>\n",
       "    <tr>\n",
       "      <th>0</th>\n",
       "      <td>2014-01-01 00:00:00</td>\n",
       "      <td>0.977402</td>\n",
       "      <td>0.009264</td>\n",
       "      <td>0.296840</td>\n",
       "      <td>0.009264</td>\n",
       "      <td>0.059256</td>\n",
       "      <td>0.002800</td>\n",
       "      <td>0.008474</td>\n",
       "      <td>0.000531</td>\n",
       "      <td>0.020002</td>\n",
       "      <td>...</td>\n",
       "      <td>10.0</td>\n",
       "      <td>Clear</td>\n",
       "      <td>8.33</td>\n",
       "      <td>1023.40</td>\n",
       "      <td>12.83</td>\n",
       "      <td>0.0</td>\n",
       "      <td>284.0</td>\n",
       "      <td>0.0</td>\n",
       "      <td>3.36</td>\n",
       "      <td>0.0</td>\n",
       "    </tr>\n",
       "    <tr>\n",
       "      <th>1</th>\n",
       "      <td>2014-01-01 00:15:00</td>\n",
       "      <td>0.377746</td>\n",
       "      <td>0.009904</td>\n",
       "      <td>0.063231</td>\n",
       "      <td>0.009904</td>\n",
       "      <td>0.003734</td>\n",
       "      <td>0.002914</td>\n",
       "      <td>0.008633</td>\n",
       "      <td>0.000471</td>\n",
       "      <td>0.009642</td>\n",
       "      <td>...</td>\n",
       "      <td>10.0</td>\n",
       "      <td>Clear</td>\n",
       "      <td>8.33</td>\n",
       "      <td>1023.40</td>\n",
       "      <td>12.83</td>\n",
       "      <td>0.0</td>\n",
       "      <td>284.0</td>\n",
       "      <td>0.0</td>\n",
       "      <td>3.36</td>\n",
       "      <td>0.0</td>\n",
       "    </tr>\n",
       "    <tr>\n",
       "      <th>2</th>\n",
       "      <td>2014-01-01 00:30:00</td>\n",
       "      <td>0.420196</td>\n",
       "      <td>0.010133</td>\n",
       "      <td>0.001511</td>\n",
       "      <td>0.010133</td>\n",
       "      <td>0.121228</td>\n",
       "      <td>0.002630</td>\n",
       "      <td>0.008059</td>\n",
       "      <td>0.000044</td>\n",
       "      <td>0.000011</td>\n",
       "      <td>...</td>\n",
       "      <td>10.0</td>\n",
       "      <td>Clear</td>\n",
       "      <td>8.33</td>\n",
       "      <td>1023.40</td>\n",
       "      <td>12.83</td>\n",
       "      <td>0.0</td>\n",
       "      <td>284.0</td>\n",
       "      <td>0.0</td>\n",
       "      <td>3.36</td>\n",
       "      <td>0.0</td>\n",
       "    </tr>\n",
       "    <tr>\n",
       "      <th>3</th>\n",
       "      <td>2014-01-01 00:45:00</td>\n",
       "      <td>0.290328</td>\n",
       "      <td>0.010029</td>\n",
       "      <td>0.000058</td>\n",
       "      <td>0.010029</td>\n",
       "      <td>0.016986</td>\n",
       "      <td>0.002910</td>\n",
       "      <td>0.008511</td>\n",
       "      <td>0.000411</td>\n",
       "      <td>0.000202</td>\n",
       "      <td>...</td>\n",
       "      <td>10.0</td>\n",
       "      <td>Clear</td>\n",
       "      <td>8.33</td>\n",
       "      <td>1023.40</td>\n",
       "      <td>12.83</td>\n",
       "      <td>0.0</td>\n",
       "      <td>284.0</td>\n",
       "      <td>0.0</td>\n",
       "      <td>3.36</td>\n",
       "      <td>0.0</td>\n",
       "    </tr>\n",
       "    <tr>\n",
       "      <th>4</th>\n",
       "      <td>2014-01-01 01:00:00</td>\n",
       "      <td>0.307616</td>\n",
       "      <td>0.010038</td>\n",
       "      <td>0.000127</td>\n",
       "      <td>0.010038</td>\n",
       "      <td>0.014140</td>\n",
       "      <td>0.002691</td>\n",
       "      <td>0.008500</td>\n",
       "      <td>0.000400</td>\n",
       "      <td>0.000200</td>\n",
       "      <td>...</td>\n",
       "      <td>10.0</td>\n",
       "      <td>Clear</td>\n",
       "      <td>8.49</td>\n",
       "      <td>1023.36</td>\n",
       "      <td>10.03</td>\n",
       "      <td>0.0</td>\n",
       "      <td>285.0</td>\n",
       "      <td>0.0</td>\n",
       "      <td>2.94</td>\n",
       "      <td>0.0</td>\n",
       "    </tr>\n",
       "  </tbody>\n",
       "</table>\n",
       "<p>5 rows × 45 columns</p>\n",
       "</div>"
      ],
      "text/plain": [
       "           Date & Time  Usage [kW]  Generation [kW]  WaterHeater [kW]  \\\n",
       "0  2014-01-01 00:00:00    0.977402         0.009264          0.296840   \n",
       "1  2014-01-01 00:15:00    0.377746         0.009904          0.063231   \n",
       "2  2014-01-01 00:30:00    0.420196         0.010133          0.001511   \n",
       "3  2014-01-01 00:45:00    0.290328         0.010029          0.000058   \n",
       "4  2014-01-01 01:00:00    0.307616         0.010038          0.000127   \n",
       "\n",
       "   Solar [kW]  Refrigerator [kW]  Microwave [kW]  Furnace [kW]  \\\n",
       "0    0.009264           0.059256        0.002800      0.008474   \n",
       "1    0.009904           0.003734        0.002914      0.008633   \n",
       "2    0.010133           0.121228        0.002630      0.008059   \n",
       "3    0.010029           0.016986        0.002910      0.008511   \n",
       "4    0.010038           0.014140        0.002691      0.008500   \n",
       "\n",
       "   WaterHeater3 [kW]  WaterHeater2 [kW]  ...  visibility  summary  \\\n",
       "0           0.000531           0.020002  ...        10.0    Clear   \n",
       "1           0.000471           0.009642  ...        10.0    Clear   \n",
       "2           0.000044           0.000011  ...        10.0    Clear   \n",
       "3           0.000411           0.000202  ...        10.0    Clear   \n",
       "4           0.000400           0.000200  ...        10.0    Clear   \n",
       "\n",
       "   apparentTemperature  pressure  windSpeed  cloudCover  windBearing  \\\n",
       "0                 8.33   1023.40      12.83         0.0        284.0   \n",
       "1                 8.33   1023.40      12.83         0.0        284.0   \n",
       "2                 8.33   1023.40      12.83         0.0        284.0   \n",
       "3                 8.33   1023.40      12.83         0.0        284.0   \n",
       "4                 8.49   1023.36      10.03         0.0        285.0   \n",
       "\n",
       "   precipIntensity  dewPoint  precipProbability  \n",
       "0              0.0      3.36                0.0  \n",
       "1              0.0      3.36                0.0  \n",
       "2              0.0      3.36                0.0  \n",
       "3              0.0      3.36                0.0  \n",
       "4              0.0      2.94                0.0  \n",
       "\n",
       "[5 rows x 45 columns]"
      ]
     },
     "execution_count": 156,
     "metadata": {},
     "output_type": "execute_result"
    }
   ],
   "source": [
    "power.head()"
   ]
  },
  {
   "cell_type": "code",
   "execution_count": 157,
   "metadata": {},
   "outputs": [
    {
     "data": {
      "text/plain": [
       "count    70080.000000\n",
       "mean         1.315627\n",
       "std          1.459243\n",
       "min          0.000000\n",
       "25%          0.438579\n",
       "50%          0.815740\n",
       "75%          1.284938\n",
       "max         20.819441\n",
       "Name: Usage [kW], dtype: float64"
      ]
     },
     "execution_count": 157,
     "metadata": {},
     "output_type": "execute_result"
    }
   ],
   "source": [
    "#概況\n",
    "target='Usage [kW]'\n",
    "power[target].describe()"
   ]
  },
  {
   "cell_type": "code",
   "execution_count": 158,
   "metadata": {},
   "outputs": [],
   "source": [
    "#drop掉NaN 讓dataframe變乾淨\n",
    "cols=power.columns\n",
    "power_empty=pd.DataFrame(columns=cols)#造一個空的dataframe\n",
    "power_t=power.drop([35040,70081])\n",
    "New_power= pd.concat([power_empty,power_t],axis=0,ignore_index=True)"
   ]
  },
  {
   "cell_type": "code",
   "execution_count": 159,
   "metadata": {},
   "outputs": [],
   "source": [
    "training_set_1 = New_power.iloc[:, 1:2].values\n",
    "training_set_2 = New_power.iloc[:, 1:2].values"
   ]
  },
  {
   "cell_type": "code",
   "execution_count": 160,
   "metadata": {},
   "outputs": [],
   "source": [
    "#建立訓練集和測試集,基本上X_train跟X_train1是一樣的東西\n",
    "training_set, dataset_test, training_set1, dataset_test1 = train_test_split(training_set_1, training_set_2, test_size=0.167,shuffle=False)"
   ]
  },
  {
   "cell_type": "code",
   "execution_count": 161,
   "metadata": {},
   "outputs": [],
   "source": [
    "#標準化\n",
    "sc = MinMaxScaler(feature_range = (0, 1))\n",
    "training_set_scaled = sc.fit_transform(training_set)"
   ]
  },
  {
   "cell_type": "code",
   "execution_count": 162,
   "metadata": {},
   "outputs": [],
   "source": [
    "X_train2 = []   #預測點的前 一個小時的資料\n",
    "Y_train2 = []   #預測點\n",
    "for i in range(4, 58376):  # 58376 是訓練集總數\n",
    "    X_train2.append(training_set_scaled[i-4:i, 0])#往前shift四個data 相當於取得前一個小時的data\n",
    "    Y_train2.append(training_set_scaled[i, 0])      #origin data\n",
    "X_train3, Y_train3 = np.array(X_train2), np.array(Y_train2)  # 轉成numpy array的格式，以利輸入 RNN"
   ]
  },
  {
   "cell_type": "code",
   "execution_count": 163,
   "metadata": {},
   "outputs": [],
   "source": [
    "X_train4 = np.reshape(X_train3, (X_train3.shape[0], X_train3.shape[1], 1))"
   ]
  },
  {
   "cell_type": "code",
   "execution_count": 164,
   "metadata": {},
   "outputs": [],
   "source": [
    "LSTM_model = Sequential()"
   ]
  },
  {
   "cell_type": "code",
   "execution_count": 165,
   "metadata": {},
   "outputs": [],
   "source": [
    "# Adding the first LSTM layer and some Dropout regularisation\n",
    "LSTM_model.add(LSTM(units = 50, return_sequences = True, input_shape = (X_train4.shape[1], 1)))\n",
    "LSTM_model.add(Dropout(0.2))\n",
    "\n",
    "# Adding a second LSTM layer and some Dropout regularisation\n",
    "LSTM_model.add(LSTM(units = 50, return_sequences = True))\n",
    "LSTM_model.add(Dropout(0.2))\n",
    "\n",
    "# Adding a third LSTM layer and some Dropout regularisation\n",
    "LSTM_model.add(LSTM(units = 50, return_sequences = True))\n",
    "LSTM_model.add(Dropout(0.2))\n",
    "\n",
    "# 由於這邊的第四層 LSTM Layer 即將跟 Ouput Layer 做連接，因此注意這邊的 return_sequences 設為預設值 False （也就是不用寫上 return_sequences）\n",
    "LSTM_model.add(LSTM(units = 50))\n",
    "LSTM_model.add(Dropout(0.2))"
   ]
  },
  {
   "cell_type": "code",
   "execution_count": 166,
   "metadata": {},
   "outputs": [],
   "source": [
    "# Adding the output layer\n",
    "LSTM_model.add(Dense(units = 1))"
   ]
  },
  {
   "cell_type": "code",
   "execution_count": 167,
   "metadata": {},
   "outputs": [
    {
     "name": "stdout",
     "output_type": "stream",
     "text": [
      "Epoch 1/100\n",
      "58372/58372 [==============================] - 28s 488us/step - loss: 0.0259\n",
      "Epoch 2/100\n",
      "58372/58372 [==============================] - 27s 456us/step - loss: 0.0227\n",
      "Epoch 3/100\n",
      "58372/58372 [==============================] - 26s 450us/step - loss: 0.0221: 0s - loss: 0.\n",
      "Epoch 4/100\n",
      "58372/58372 [==============================] - 26s 441us/step - loss: 0.0218\n",
      "Epoch 5/100\n",
      "58372/58372 [==============================] - 26s 441us/step - loss: 0.0217\n",
      "Epoch 6/100\n",
      "58372/58372 [==============================] - 26s 440us/step - loss: 0.0216\n",
      "Epoch 7/100\n",
      "58372/58372 [==============================] - 26s 440us/step - loss: 0.0215\n",
      "Epoch 8/100\n",
      "58372/58372 [==============================] - 26s 438us/step - loss: 0.0214\n",
      "Epoch 9/100\n",
      "58372/58372 [==============================] - 26s 440us/step - loss: 0.0214\n",
      "Epoch 10/100\n",
      "58372/58372 [==============================] - 26s 448us/step - loss: 0.0213\n",
      "Epoch 11/100\n",
      "58372/58372 [==============================] - 26s 441us/step - loss: 0.0213\n",
      "Epoch 12/100\n",
      "58372/58372 [==============================] - 26s 443us/step - loss: 0.0212\n",
      "Epoch 13/100\n",
      "58372/58372 [==============================] - 26s 443us/step - loss: 0.0212\n",
      "Epoch 14/100\n",
      "58372/58372 [==============================] - 26s 440us/step - loss: 0.0212\n",
      "Epoch 15/100\n",
      "58372/58372 [==============================] - 26s 442us/step - loss: 0.0211\n",
      "Epoch 16/100\n",
      "58372/58372 [==============================] - 26s 447us/step - loss: 0.0211\n",
      "Epoch 17/100\n",
      "58372/58372 [==============================] - 26s 444us/step - loss: 0.0211\n",
      "Epoch 18/100\n",
      "58372/58372 [==============================] - 26s 440us/step - loss: 0.0210\n",
      "Epoch 19/100\n",
      "58372/58372 [==============================] - 26s 446us/step - loss: 0.0210\n",
      "Epoch 20/100\n",
      "58372/58372 [==============================] - 26s 450us/step - loss: 0.0210\n",
      "Epoch 21/100\n",
      "58372/58372 [==============================] - 26s 441us/step - loss: 0.0210\n",
      "Epoch 22/100\n",
      "58372/58372 [==============================] - 26s 448us/step - loss: 0.0210\n",
      "Epoch 23/100\n",
      "58372/58372 [==============================] - 26s 443us/step - loss: 0.0209\n",
      "Epoch 24/100\n",
      "58372/58372 [==============================] - 26s 443us/step - loss: 0.0209\n",
      "Epoch 25/100\n",
      "58372/58372 [==============================] - 26s 445us/step - loss: 0.0209\n",
      "Epoch 26/100\n",
      "58372/58372 [==============================] - 26s 451us/step - loss: 0.0208\n",
      "Epoch 27/100\n",
      "58372/58372 [==============================] - 26s 442us/step - loss: 0.0208\n",
      "Epoch 28/100\n",
      "58372/58372 [==============================] - 26s 442us/step - loss: 0.0208\n",
      "Epoch 29/100\n",
      "58372/58372 [==============================] - 26s 442us/step - loss: 0.0207\n",
      "Epoch 30/100\n",
      "58372/58372 [==============================] - 26s 443us/step - loss: 0.0207\n",
      "Epoch 31/100\n",
      "58372/58372 [==============================] - 26s 444us/step - loss: 0.0207\n",
      "Epoch 32/100\n",
      "58372/58372 [==============================] - 26s 445us/step - loss: 0.0207\n",
      "Epoch 33/100\n",
      "58372/58372 [==============================] - 26s 441us/step - loss: 0.0207\n",
      "Epoch 34/100\n",
      "58372/58372 [==============================] - 26s 440us/step - loss: 0.0206\n",
      "Epoch 35/100\n",
      "58372/58372 [==============================] - 26s 441us/step - loss: 0.0206\n",
      "Epoch 36/100\n",
      "58372/58372 [==============================] - 26s 443us/step - loss: 0.0206\n",
      "Epoch 37/100\n",
      "58372/58372 [==============================] - 26s 442us/step - loss: 0.0205\n",
      "Epoch 38/100\n",
      "58372/58372 [==============================] - 26s 444us/step - loss: 0.0205\n",
      "Epoch 39/100\n",
      "58372/58372 [==============================] - 26s 444us/step - loss: 0.0205\n",
      "Epoch 40/100\n",
      "58372/58372 [==============================] - 26s 444us/step - loss: 0.0205\n",
      "Epoch 41/100\n",
      "58372/58372 [==============================] - 26s 446us/step - loss: 0.0205\n",
      "Epoch 42/100\n",
      "58372/58372 [==============================] - 26s 443us/step - loss: 0.0204\n",
      "Epoch 43/100\n",
      "58372/58372 [==============================] - 26s 445us/step - loss: 0.0204\n",
      "Epoch 44/100\n",
      "58372/58372 [==============================] - 26s 447us/step - loss: 0.0204\n",
      "Epoch 45/100\n",
      "58372/58372 [==============================] - 26s 446us/step - loss: 0.0204\n",
      "Epoch 46/100\n",
      "58372/58372 [==============================] - 26s 445us/step - loss: 0.02030s - loss\n",
      "Epoch 47/100\n",
      "58372/58372 [==============================] - 26s 445us/step - loss: 0.0203\n",
      "Epoch 48/100\n",
      "58372/58372 [==============================] - 26s 446us/step - loss: 0.0202\n",
      "Epoch 49/100\n",
      "58372/58372 [==============================] - 26s 446us/step - loss: 0.0203\n",
      "Epoch 50/100\n",
      "58372/58372 [==============================] - 26s 446us/step - loss: 0.0203\n",
      "Epoch 51/100\n",
      "58372/58372 [==============================] - 26s 447us/step - loss: 0.0202\n",
      "Epoch 52/100\n",
      "58372/58372 [==============================] - 26s 447us/step - loss: 0.02020s - lo\n",
      "Epoch 53/100\n",
      "58372/58372 [==============================] - 26s 440us/step - loss: 0.0201\n",
      "Epoch 54/100\n",
      "58372/58372 [==============================] - 26s 440us/step - loss: 0.0201\n",
      "Epoch 55/100\n",
      "58372/58372 [==============================] - 26s 443us/step - loss: 0.0201\n",
      "Epoch 56/100\n",
      "58372/58372 [==============================] - 26s 439us/step - loss: 0.0202\n",
      "Epoch 57/100\n",
      "58372/58372 [==============================] - 26s 440us/step - loss: 0.0201\n",
      "Epoch 58/100\n",
      "58372/58372 [==============================] - 26s 441us/step - loss: 0.0201\n",
      "Epoch 59/100\n",
      "58372/58372 [==============================] - 26s 441us/step - loss: 0.0201\n",
      "Epoch 60/100\n",
      "58372/58372 [==============================] - 26s 440us/step - loss: 0.0200\n",
      "Epoch 61/100\n",
      "58372/58372 [==============================] - 26s 440us/step - loss: 0.0200\n",
      "Epoch 62/100\n",
      "58372/58372 [==============================] - 26s 441us/step - loss: 0.0200\n",
      "Epoch 63/100\n",
      "58372/58372 [==============================] - 26s 439us/step - loss: 0.0200\n",
      "Epoch 64/100\n",
      "58372/58372 [==============================] - 26s 440us/step - loss: 0.0201\n",
      "Epoch 65/100\n",
      "58372/58372 [==============================] - 26s 440us/step - loss: 0.0200\n",
      "Epoch 66/100\n",
      "58372/58372 [==============================] - 26s 439us/step - loss: 0.0200\n",
      "Epoch 67/100\n",
      "58372/58372 [==============================] - 26s 440us/step - loss: 0.0200\n",
      "Epoch 68/100\n",
      "58372/58372 [==============================] - 26s 440us/step - loss: 0.0200\n",
      "Epoch 69/100\n",
      "58372/58372 [==============================] - 26s 440us/step - loss: 0.0199\n",
      "Epoch 70/100\n",
      "58372/58372 [==============================] - 26s 445us/step - loss: 0.0200\n",
      "Epoch 71/100\n",
      "58372/58372 [==============================] - 25s 432us/step - loss: 0.0199\n",
      "Epoch 72/100\n",
      "58372/58372 [==============================] - 24s 409us/step - loss: 0.0199\n",
      "Epoch 73/100\n",
      "58372/58372 [==============================] - 24s 410us/step - loss: 0.0199\n",
      "Epoch 74/100\n",
      "58372/58372 [==============================] - 24s 410us/step - loss: 0.0199\n",
      "Epoch 75/100\n",
      "58372/58372 [==============================] - 24s 410us/step - loss: 0.0199\n",
      "Epoch 76/100\n",
      "58372/58372 [==============================] - 24s 411us/step - loss: 0.0199\n",
      "Epoch 77/100\n",
      "58372/58372 [==============================] - 24s 410us/step - loss: 0.0199\n",
      "Epoch 78/100\n",
      "58372/58372 [==============================] - 24s 410us/step - loss: 0.0198\n",
      "Epoch 79/100\n",
      "58372/58372 [==============================] - 24s 411us/step - loss: 0.0198\n",
      "Epoch 80/100\n",
      "58372/58372 [==============================] - 24s 410us/step - loss: 0.0199\n",
      "Epoch 81/100\n",
      "58372/58372 [==============================] - 24s 409us/step - loss: 0.0198\n",
      "Epoch 82/100\n",
      "58372/58372 [==============================] - 24s 411us/step - loss: 0.0199\n",
      "Epoch 83/100\n",
      "58372/58372 [==============================] - 24s 411us/step - loss: 0.0198\n",
      "Epoch 84/100\n",
      "58372/58372 [==============================] - 24s 418us/step - loss: 0.0198\n",
      "Epoch 85/100\n",
      "58372/58372 [==============================] - 24s 410us/step - loss: 0.0198\n",
      "Epoch 86/100\n",
      "58372/58372 [==============================] - 24s 410us/step - loss: 0.0198\n",
      "Epoch 87/100\n",
      "58372/58372 [==============================] - 24s 411us/step - loss: 0.0198\n",
      "Epoch 88/100\n",
      "58372/58372 [==============================] - 24s 411us/step - loss: 0.0197\n",
      "Epoch 89/100\n",
      "58372/58372 [==============================] - 24s 410us/step - loss: 0.0198\n",
      "Epoch 90/100\n",
      "58372/58372 [==============================] - 24s 409us/step - loss: 0.0197\n",
      "Epoch 91/100\n"
     ]
    },
    {
     "name": "stdout",
     "output_type": "stream",
     "text": [
      "58372/58372 [==============================] - 24s 409us/step - loss: 0.0197\n",
      "Epoch 92/100\n",
      "58372/58372 [==============================] - 24s 409us/step - loss: 0.0197\n",
      "Epoch 93/100\n",
      "58372/58372 [==============================] - 24s 410us/step - loss: 0.0197\n",
      "Epoch 94/100\n",
      "58372/58372 [==============================] - 24s 412us/step - loss: 0.0197\n",
      "Epoch 95/100\n",
      "58372/58372 [==============================] - 24s 408us/step - loss: 0.0197\n",
      "Epoch 96/100\n",
      "58372/58372 [==============================] - 24s 409us/step - loss: 0.0197\n",
      "Epoch 97/100\n",
      "58372/58372 [==============================] - 24s 408us/step - loss: 0.0197\n",
      "Epoch 98/100\n",
      "58372/58372 [==============================] - 24s 409us/step - loss: 0.0197\n",
      "Epoch 99/100\n",
      "58372/58372 [==============================] - 24s 411us/step - loss: 0.0197\n",
      "Epoch 100/100\n",
      "58372/58372 [==============================] - 24s 410us/step - loss: 0.0197\n"
     ]
    },
    {
     "data": {
      "text/plain": [
       "<keras.callbacks.callbacks.History at 0x15fbab7af08>"
      ]
     },
     "execution_count": 167,
     "metadata": {},
     "output_type": "execute_result"
    }
   ],
   "source": [
    "# Compiling\n",
    "LSTM_model.compile(optimizer = 'adam', loss = 'mean_absolute_error')\n",
    "\n",
    "# 進行訓練\n",
    "LSTM_model.fit(X_train4, Y_train3, epochs = 100, batch_size = 32)"
   ]
  },
  {
   "cell_type": "code",
   "execution_count": 168,
   "metadata": {},
   "outputs": [
    {
     "data": {
      "text/plain": [
       "11708"
      ]
     },
     "execution_count": 168,
     "metadata": {},
     "output_type": "execute_result"
    }
   ],
   "source": [
    "dataset_total = New_power['Usage [kW]']\n",
    "inputs = dataset_total[len(dataset_total) - len(dataset_test) -4 :].values\n",
    "inputs = inputs.reshape(-1,1)\n",
    "inputs = sc.transform(inputs)\n",
    "\n",
    "X_test1 = []\n",
    "for i in range(4, 1004):  # X_test資料\n",
    "    X_test1.append(inputs[i-4:i, 0])\n",
    "X_test1 = np.array(X_test1)\n",
    "X_test1 = np.reshape(X_test1, (X_test1.shape[0], X_test1.shape[1], 1)) \n",
    "len(inputs)"
   ]
  },
  {
   "cell_type": "code",
   "execution_count": 169,
   "metadata": {},
   "outputs": [],
   "source": [
    "X_test= dataset_test[0:1000]"
   ]
  },
  {
   "cell_type": "code",
   "execution_count": 170,
   "metadata": {},
   "outputs": [],
   "source": [
    "predicted_stock_price = LSTM_model.predict(X_test1)       # 預測結果(此為還原前的值)\n",
    "Y_predicted = sc.inverse_transform(predicted_stock_price)  # 得到原始值"
   ]
  },
  {
   "cell_type": "markdown",
   "metadata": {},
   "source": [
    "**X_test1相當於LI中的X_test ,Y_predicted相當於Y_pred,dataset_test相當於Y_test也就是實際值,X_train就是往前shift四個data的值**\n"
   ]
  },
  {
   "cell_type": "code",
   "execution_count": 171,
   "metadata": {},
   "outputs": [
    {
     "data": {
      "image/png": "[encoded data removed]",
      "text/plain": [
       "<Figure size 720x360 with 1 Axes>"
      ]
     },
     "metadata": {
      "needs_background": "light"
     },
     "output_type": "display_data"
    }
   ],
   "source": [
    "# 視覺化\n",
    "plt.figure(figsize=(10,5))\n",
    "plt.plot(X_test, color = 'red', label = 'Real Usage[kW]')  # 紅線表示Usage\n",
    "plt.plot(Y_predicted, color = 'blue', label = 'Predicted Usage[kW]')  # 藍線表示預測Usage\n",
    "plt.title('Usage [kW] Prediction')\n",
    "plt.xlabel('Time')\n",
    "plt.ylabel('Usage [kW]')\n",
    "plt.legend()\n",
    "plt.show()\n"
   ]
  },
  {
   "cell_type": "code",
   "execution_count": 172,
   "metadata": {},
   "outputs": [
    {
     "name": "stdout",
     "output_type": "stream",
     "text": [
      "*Mean Absolute Error: 0.43784783335279515\n"
     ]
    }
   ],
   "source": [
    "print('*Mean Absolute Error:', metrics.mean_absolute_error(X_test, Y_predicted))  "
   ]
  }
 ],
 "metadata": {
  "kernelspec": {
   "display_name": "Python 3",
   "language": "python",
   "name": "python3"
  },
  "language_info": {
   "codemirror_mode": {
    "name": "ipython",
    "version": 3
   },
   "file_extension": ".py",
   "mimetype": "text/x-python",
   "name": "python",
   "nbconvert_exporter": "python",
   "pygments_lexer": "ipython3",
   "version": "3.7.6"
  }
 },
 "nbformat": 4,
 "nbformat_minor": 4
}
