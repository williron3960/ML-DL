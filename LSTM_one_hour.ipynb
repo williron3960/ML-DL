{
 "cells": [
  {
   "cell_type": "code",
   "execution_count": 3,
   "metadata": {},
   "outputs": [],
   "source": [
    "# Import the libraries\n",
    "import numpy as np\n",
    "import matplotlib.pyplot as plt  # for 畫圖用\n",
    "import pandas as pd\n",
    "# Import the Keras libraries and packages\n",
    "from sklearn.model_selection import train_test_split \n",
    "from sklearn.preprocessing import MinMaxScaler\n",
    "from sklearn import metrics\n",
    "from keras.models import Sequential\n",
    "from keras.layers import Dense\n",
    "from keras.layers import LSTM\n",
    "from keras.layers import Dropout"
   ]
  },
  {
   "cell_type": "code",
   "execution_count": 4,
   "metadata": {},
   "outputs": [],
   "source": [
    "# Import the training set\n",
    "pw2014_ini = pd.read_csv('homeF_2014_merge_2.csv')  # 讀取訓練集\n",
    "pw2015_ini = pd.read_csv('homeF_2015_merge_2.csv')  # 讀取訓練集\n",
    "power = pd.concat([pw2014_ini,pw2015_ini],axis=0,ignore_index=True)"
   ]
  },
  {
   "cell_type": "code",
   "execution_count": 5,
   "metadata": {},
   "outputs": [
    {
     "data": {
      "text/plain": [
       "count    70080.000000\n",
       "mean         1.315627\n",
       "std          1.459243\n",
       "min          0.000000\n",
       "25%          0.438579\n",
       "50%          0.815740\n",
       "75%          1.284938\n",
       "max         20.819441\n",
       "Name: Usage [kW], dtype: float64"
      ]
     },
     "execution_count": 5,
     "metadata": {},
     "output_type": "execute_result"
    }
   ],
   "source": [
    "#概況\n",
    "target='Usage [kW]'\n",
    "power[target].describe()"
   ]
  },
  {
   "cell_type": "code",
   "execution_count": 6,
   "metadata": {},
   "outputs": [],
   "source": [
    "#drop掉NaN 讓dataframe變乾淨\n",
    "cols=power.columns\n",
    "power_empty=pd.DataFrame(columns=cols)#造一個空的dataframe\n",
    "power_t=power.drop([35040,70081])\n",
    "New_power= pd.concat([power_empty,power_t],axis=0,ignore_index=True)"
   ]
  },
  {
   "cell_type": "code",
   "execution_count": 7,
   "metadata": {},
   "outputs": [],
   "source": [
    "training_set_1 = New_power.iloc[:, 1:2].values\n",
    "training_set_2 = New_power.iloc[:, 1:2].values"
   ]
  },
  {
   "cell_type": "code",
   "execution_count": 8,
   "metadata": {},
   "outputs": [],
   "source": [
    "#建立訓練集和測試集,基本上X_train跟X_train1是一樣的東西\n",
    "training_set, dataset_test, training_set1, dataset_test1 = train_test_split(training_set_1, training_set_2, test_size=0.167,shuffle=False)"
   ]
  },
  {
   "cell_type": "code",
   "execution_count": 9,
   "metadata": {},
   "outputs": [],
   "source": [
    "#標準化\n",
    "sc = MinMaxScaler(feature_range = (0, 1))\n",
    "training_set_scaled = sc.fit_transform(training_set)"
   ]
  },
  {
   "cell_type": "code",
   "execution_count": 10,
   "metadata": {},
   "outputs": [],
   "source": [
    "X_train2 = []   #預測點的前 一個小時的資料\n",
    "Y_train2 = []   #預測點\n",
    "for i in range(4, 58376):  # 58376 是訓練集總數\n",
    "    X_train2.append(training_set_scaled[i-4:i-3, 0])#往前shift四個data 相當於取得前一個小時的data\n",
    "    Y_train2.append(training_set_scaled[i, 0])      #origin data\n",
    "X_train3, Y_train3 = np.array(X_train2), np.array(Y_train2)  # 轉成numpy array的格式，以利輸入 RNN"
   ]
  },
  {
   "cell_type": "code",
   "execution_count": 11,
   "metadata": {},
   "outputs": [],
   "source": [
    "X_train4 = np.reshape(X_train3, (X_train3.shape[0], X_train3.shape[1], 1))"
   ]
  },
  {
   "cell_type": "code",
   "execution_count": 12,
   "metadata": {},
   "outputs": [],
   "source": [
    "LSTM_model = Sequential()"
   ]
  },
  {
   "cell_type": "code",
   "execution_count": 13,
   "metadata": {},
   "outputs": [],
   "source": [
    "# Adding the first LSTM layer and some Dropout regularisation\n",
    "LSTM_model.add(LSTM(units = 50, return_sequences = True, input_shape = (X_train4.shape[1], 1)))\n",
    "LSTM_model.add(Dropout(0.2))\n",
    "\n",
    "# Adding a second LSTM layer and some Dropout regularisation\n",
    "LSTM_model.add(LSTM(units = 50, return_sequences = True))\n",
    "LSTM_model.add(Dropout(0.2))\n",
    "\n",
    "# Adding a third LSTM layer and some Dropout regularisation\n",
    "LSTM_model.add(LSTM(units = 50, return_sequences = True))\n",
    "LSTM_model.add(Dropout(0.2))\n",
    "\n",
    "# 由於這邊的第四層 LSTM Layer 即將跟 Ouput Layer 做連接，因此注意這邊的 return_sequences 設為預設值 False （也就是不用寫上 return_sequences）\n",
    "LSTM_model.add(LSTM(units = 50))\n",
    "LSTM_model.add(Dropout(0.2))"
   ]
  },
  {
   "cell_type": "code",
   "execution_count": 14,
   "metadata": {},
   "outputs": [],
   "source": [
    "# Adding the output layer\n",
    "LSTM_model.add(Dense(units = 1))"
   ]
  },
  {
   "cell_type": "code",
   "execution_count": 15,
   "metadata": {},
   "outputs": [
    {
     "name": "stdout",
     "output_type": "stream",
     "text": [
      "WARNING:tensorflow:From C:\\Users\\shita\\anaconda3\\lib\\site-packages\\keras\\backend\\tensorflow_backend.py:422: The name tf.global_variables is deprecated. Please use tf.compat.v1.global_variables instead.\n",
      "\n",
      "Epoch 1/100\n",
      "58372/58372 [==============================] - 13s 223us/step - loss: 0.0346\n",
      "Epoch 2/100\n",
      "58372/58372 [==============================] - 11s 187us/step - loss: 0.0338\n",
      "Epoch 3/100\n",
      "58372/58372 [==============================] - 11s 185us/step - loss: 0.0337\n",
      "Epoch 4/100\n",
      "58372/58372 [==============================] - 11s 184us/step - loss: 0.0335\n",
      "Epoch 5/100\n",
      "58372/58372 [==============================] - 11s 186us/step - loss: 0.0335\n",
      "Epoch 6/100\n",
      "58372/58372 [==============================] - 11s 185us/step - loss: 0.0334\n",
      "Epoch 7/100\n",
      "58372/58372 [==============================] - 11s 185us/step - loss: 0.0334\n",
      "Epoch 8/100\n",
      "58372/58372 [==============================] - 11s 185us/step - loss: 0.0334\n",
      "Epoch 9/100\n",
      "58372/58372 [==============================] - 12s 205us/step - loss: 0.0332\n",
      "Epoch 10/100\n",
      "58372/58372 [==============================] - 12s 200us/step - loss: 0.0332\n",
      "Epoch 11/100\n",
      "58372/58372 [==============================] - 11s 194us/step - loss: 0.0331\n",
      "Epoch 12/100\n",
      "58372/58372 [==============================] - 11s 190us/step - loss: 0.0331\n",
      "Epoch 13/100\n",
      "58372/58372 [==============================] - 11s 189us/step - loss: 0.0330\n",
      "Epoch 14/100\n",
      "58372/58372 [==============================] - 10s 180us/step - loss: 0.0330\n",
      "Epoch 15/100\n",
      "58372/58372 [==============================] - 10s 180us/step - loss: 0.0330\n",
      "Epoch 16/100\n",
      "58372/58372 [==============================] - 11s 191us/step - loss: 0.0330\n",
      "Epoch 17/100\n",
      "58372/58372 [==============================] - 11s 193us/step - loss: 0.0329\n",
      "Epoch 18/100\n",
      "58372/58372 [==============================] - 12s 206us/step - loss: 0.0329\n",
      "Epoch 19/100\n",
      "58372/58372 [==============================] - 12s 212us/step - loss: 0.0328\n",
      "Epoch 20/100\n",
      "58372/58372 [==============================] - 13s 228us/step - loss: 0.0329\n",
      "Epoch 21/100\n",
      "58372/58372 [==============================] - 12s 204us/step - loss: 0.0328\n",
      "Epoch 22/100\n",
      "58372/58372 [==============================] - 11s 188us/step - loss: 0.0328\n",
      "Epoch 23/100\n",
      "58372/58372 [==============================] - 13s 214us/step - loss: 0.0327\n",
      "Epoch 24/100\n",
      "58372/58372 [==============================] - 11s 191us/step - loss: 0.0328\n",
      "Epoch 25/100\n",
      "58372/58372 [==============================] - 12s 203us/step - loss: 0.0328\n",
      "Epoch 26/100\n",
      "58372/58372 [==============================] - 11s 196us/step - loss: 0.0327\n",
      "Epoch 27/100\n",
      "58372/58372 [==============================] - 12s 198us/step - loss: 0.0327\n",
      "Epoch 28/100\n",
      "58372/58372 [==============================] - 12s 205us/step - loss: 0.0328\n",
      "Epoch 29/100\n",
      "58372/58372 [==============================] - 12s 201us/step - loss: 0.0327\n",
      "Epoch 30/100\n",
      "58372/58372 [==============================] - 11s 195us/step - loss: 0.0327\n",
      "Epoch 31/100\n",
      "58372/58372 [==============================] - 12s 203us/step - loss: 0.0327\n",
      "Epoch 32/100\n",
      "58372/58372 [==============================] - 13s 223us/step - loss: 0.0327\n",
      "Epoch 33/100\n",
      "58372/58372 [==============================] - 11s 193us/step - loss: 0.0326\n",
      "Epoch 34/100\n",
      "58372/58372 [==============================] - 12s 207us/step - loss: 0.0326\n",
      "Epoch 35/100\n",
      "58372/58372 [==============================] - 11s 196us/step - loss: 0.0326\n",
      "Epoch 36/100\n",
      "58372/58372 [==============================] - 13s 215us/step - loss: 0.0326\n",
      "Epoch 37/100\n",
      "58372/58372 [==============================] - 14s 242us/step - loss: 0.0327\n",
      "Epoch 38/100\n",
      "58372/58372 [==============================] - 13s 224us/step - loss: 0.0326\n",
      "Epoch 39/100\n",
      "58372/58372 [==============================] - 13s 218us/step - loss: 0.0326\n",
      "Epoch 40/100\n",
      "58372/58372 [==============================] - 14s 243us/step - loss: 0.0325\n",
      "Epoch 41/100\n",
      "58372/58372 [==============================] - 12s 213us/step - loss: 0.0326\n",
      "Epoch 42/100\n",
      "58372/58372 [==============================] - 12s 204us/step - loss: 0.0326\n",
      "Epoch 43/100\n",
      "58372/58372 [==============================] - 12s 207us/step - loss: 0.0326\n",
      "Epoch 44/100\n",
      "58372/58372 [==============================] - 12s 208us/step - loss: 0.0326\n",
      "Epoch 45/100\n",
      "58372/58372 [==============================] - 12s 200us/step - loss: 0.0326\n",
      "Epoch 46/100\n",
      "58372/58372 [==============================] - 11s 191us/step - loss: 0.0325\n",
      "Epoch 47/100\n",
      "58372/58372 [==============================] - 10s 180us/step - loss: 0.0325\n",
      "Epoch 48/100\n",
      "58372/58372 [==============================] - 11s 181us/step - loss: 0.0325\n",
      "Epoch 49/100\n",
      "58372/58372 [==============================] - 11s 197us/step - loss: 0.0326\n",
      "Epoch 50/100\n",
      "58372/58372 [==============================] - 13s 224us/step - loss: 0.0325\n",
      "Epoch 51/100\n",
      "58372/58372 [==============================] - 12s 204us/step - loss: 0.0326\n",
      "Epoch 52/100\n",
      "58372/58372 [==============================] - 13s 216us/step - loss: 0.0325\n",
      "Epoch 53/100\n",
      "58372/58372 [==============================] - 12s 199us/step - loss: 0.0326\n",
      "Epoch 54/100\n",
      "58372/58372 [==============================] - 12s 201us/step - loss: 0.0325\n",
      "Epoch 55/100\n",
      "58372/58372 [==============================] - 10s 176us/step - loss: 0.0325\n",
      "Epoch 56/100\n",
      "58372/58372 [==============================] - 10s 180us/step - loss: 0.0325\n",
      "Epoch 57/100\n",
      "58372/58372 [==============================] - 10s 179us/step - loss: 0.0325\n",
      "Epoch 58/100\n",
      "58372/58372 [==============================] - 10s 178us/step - loss: 0.0325\n",
      "Epoch 59/100\n",
      "58372/58372 [==============================] - 10s 179us/step - loss: 0.0325\n",
      "Epoch 60/100\n",
      "58372/58372 [==============================] - 11s 191us/step - loss: 0.0326\n",
      "Epoch 61/100\n",
      "58372/58372 [==============================] - 12s 210us/step - loss: 0.0325\n",
      "Epoch 62/100\n",
      "58372/58372 [==============================] - 11s 181us/step - loss: 0.0325\n",
      "Epoch 63/100\n",
      "58372/58372 [==============================] - 11s 181us/step - loss: 0.0325\n",
      "Epoch 64/100\n",
      "58372/58372 [==============================] - 10s 179us/step - loss: 0.0325\n",
      "Epoch 65/100\n",
      "58372/58372 [==============================] - 11s 182us/step - loss: 0.0325\n",
      "Epoch 66/100\n",
      "58372/58372 [==============================] - 10s 179us/step - loss: 0.0325\n",
      "Epoch 67/100\n",
      "58372/58372 [==============================] - 11s 190us/step - loss: 0.0325\n",
      "Epoch 68/100\n",
      "58372/58372 [==============================] - 12s 204us/step - loss: 0.0324\n",
      "Epoch 69/100\n",
      "58372/58372 [==============================] - 12s 202us/step - loss: 0.0325\n",
      "Epoch 70/100\n",
      "58372/58372 [==============================] - 12s 210us/step - loss: 0.0324\n",
      "Epoch 71/100\n",
      "58372/58372 [==============================] - 11s 197us/step - loss: 0.0325\n",
      "Epoch 72/100\n",
      "58372/58372 [==============================] - 12s 203us/step - loss: 0.0325\n",
      "Epoch 73/100\n",
      "58372/58372 [==============================] - 11s 190us/step - loss: 0.0324\n",
      "Epoch 74/100\n",
      "58372/58372 [==============================] - 11s 183us/step - loss: 0.0325\n",
      "Epoch 75/100\n",
      "58372/58372 [==============================] - 10s 177us/step - loss: 0.0324\n",
      "Epoch 76/100\n",
      "58372/58372 [==============================] - 11s 182us/step - loss: 0.0324\n",
      "Epoch 77/100\n",
      "58372/58372 [==============================] - 12s 205us/step - loss: 0.0325\n",
      "Epoch 78/100\n",
      "58372/58372 [==============================] - 12s 197us/step - loss: 0.0325\n",
      "Epoch 79/100\n",
      "58372/58372 [==============================] - 12s 209us/step - loss: 0.0325\n",
      "Epoch 80/100\n",
      "58372/58372 [==============================] - 12s 200us/step - loss: 0.0324\n",
      "Epoch 81/100\n",
      "58372/58372 [==============================] - 12s 210us/step - loss: 0.0324\n",
      "Epoch 82/100\n",
      "58372/58372 [==============================] - 12s 207us/step - loss: 0.0324\n",
      "Epoch 83/100\n",
      "58372/58372 [==============================] - 12s 203us/step - loss: 0.0325\n",
      "Epoch 84/100\n",
      "58372/58372 [==============================] - 11s 197us/step - loss: 0.0325\n",
      "Epoch 85/100\n",
      "58372/58372 [==============================] - 12s 199us/step - loss: 0.0325\n",
      "Epoch 86/100\n",
      "58372/58372 [==============================] - 12s 199us/step - loss: 0.0325\n",
      "Epoch 87/100\n",
      "58372/58372 [==============================] - 11s 194us/step - loss: 0.0325\n",
      "Epoch 88/100\n",
      "58372/58372 [==============================] - 11s 181us/step - loss: 0.0325\n",
      "Epoch 89/100\n",
      "58372/58372 [==============================] - 11s 186us/step - loss: 0.0325\n",
      "Epoch 90/100\n",
      "58372/58372 [==============================] - 10s 178us/step - loss: 0.0325\n",
      "Epoch 91/100\n",
      "58372/58372 [==============================] - 12s 210us/step - loss: 0.0324\n",
      "Epoch 92/100\n",
      "58372/58372 [==============================] - 12s 198us/step - loss: 0.0325\n",
      "Epoch 93/100\n",
      "58372/58372 [==============================] - 12s 209us/step - loss: 0.0325\n",
      "Epoch 94/100\n",
      "58372/58372 [==============================] - 12s 205us/step - loss: 0.0324\n",
      "Epoch 95/100\n",
      "58372/58372 [==============================] - 10s 177us/step - loss: 0.0325\n",
      "Epoch 96/100\n",
      "58372/58372 [==============================] - 10s 178us/step - loss: 0.0324\n",
      "Epoch 97/100\n",
      "58372/58372 [==============================] - 10s 176us/step - loss: 0.0324\n",
      "Epoch 98/100\n",
      "58372/58372 [==============================] - 10s 176us/step - loss: 0.0324\n",
      "Epoch 99/100\n",
      "58372/58372 [==============================] - 12s 198us/step - loss: 0.0324\n",
      "Epoch 100/100\n",
      "58372/58372 [==============================] - 11s 187us/step - loss: 0.0324\n"
     ]
    },
    {
     "data": {
      "text/plain": [
       "<keras.callbacks.callbacks.History at 0x1cbfdd7f208>"
      ]
     },
     "execution_count": 15,
     "metadata": {},
     "output_type": "execute_result"
    }
   ],
   "source": [
    "# Compiling\n",
    "LSTM_model.compile(optimizer = 'adam', loss = 'mean_absolute_error')\n",
    "\n",
    "# 進行訓練\n",
    "LSTM_model.fit(X_train4, Y_train3, epochs = 100, batch_size = 32)"
   ]
  },
  {
   "cell_type": "code",
   "execution_count": 44,
   "metadata": {},
   "outputs": [],
   "source": [
    "dataset_total = New_power['Usage [kW]']\n",
    "inputs = dataset_total[len(dataset_total) - len(dataset_test) -4 :].values\n",
    "inputs = inputs.reshape(-1,1)\n",
    "inputs = sc.transform(inputs)\n",
    "\n",
    "X_test1 = []\n",
    "for i in range(4, 1004):  # X_test資料\n",
    "    X_test1.append(inputs[i-4:i-3, 0])\n",
    "X_test1 = np.array(X_test1)\n",
    "X_test1 = np.reshape(X_test1, (X_test1.shape[0], X_test1.shape[1], 1)) "
   ]
  },
  {
   "cell_type": "code",
   "execution_count": 45,
   "metadata": {},
   "outputs": [],
   "source": [
    "X_test= dataset_test[0:1000]"
   ]
  },
  {
   "cell_type": "code",
   "execution_count": 46,
   "metadata": {},
   "outputs": [],
   "source": [
    "predicted_stock_price = LSTM_model.predict(X_test1)       # 預測結果(此為還原前的值)\n",
    "Y_predicted = sc.inverse_transform(predicted_stock_price)  # 得到原始值"
   ]
  },
  {
   "cell_type": "code",
   "execution_count": 47,
   "metadata": {},
   "outputs": [
    {
     "data": {
      "image/png": "[encoded data removed]",
      "text/plain": [
       "<Figure size 720x360 with 1 Axes>"
      ]
     },
     "metadata": {
      "needs_background": "light"
     },
     "output_type": "display_data"
    }
   ],
   "source": [
    "# 視覺化\n",
    "plt.figure(figsize=(10,5))\n",
    "plt.plot(X_test, color = 'red', label = 'Real Usage[kW]')  # 紅線表示Usage\n",
    "plt.plot(Y_predicted, color = 'blue', label = 'Predicted Usage[kW]')  # 藍線表示預測Usage\n",
    "plt.title('Usage [kW] Prediction')\n",
    "plt.xlabel('Time')\n",
    "plt.ylabel('Usage [kW]')\n",
    "plt.legend()\n",
    "plt.show()"
   ]
  },
  {
   "cell_type": "code",
   "execution_count": 43,
   "metadata": {},
   "outputs": [
    {
     "name": "stdout",
     "output_type": "stream",
     "text": [
      "*Mean Absolute Error: 0.5349920771397118\n"
     ]
    }
   ],
   "source": [
    "print('*Mean Absolute Error:', metrics.mean_absolute_error(X_test, Y_predicted))  "
   ]
  }
 ],
 "metadata": {
  "kernelspec": {
   "display_name": "Python 3",
   "language": "python",
   "name": "python3"
  },
  "language_info": {
   "codemirror_mode": {
    "name": "ipython",
    "version": 3
   },
   "file_extension": ".py",
   "mimetype": "text/x-python",
   "name": "python",
   "nbconvert_exporter": "python",
   "pygments_lexer": "ipython3",
   "version": "3.7.6"
  }
 },
 "nbformat": 4,
 "nbformat_minor": 4
}
